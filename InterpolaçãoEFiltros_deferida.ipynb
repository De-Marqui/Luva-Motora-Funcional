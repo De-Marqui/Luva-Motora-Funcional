{
 "cells": [
  {
   "cell_type": "markdown",
   "metadata": {},
   "source": [
    "# **Computação Visual**\n",
    "*Prof. André Kishimoto*"
   ]
  },
  {
   "cell_type": "markdown",
   "metadata": {},
   "source": [
    "# Exercícios\n",
    "\n",
    "**Observação**: *Ao enviar as alterações com sua solução final no repositório git, certifique-se que o notebook está com todas as saídas executadas, de forma que, ao abrir o arquivo no GitHub (navegador), todas as saídas estarão visíveis.*"
   ]
  },
  {
   "attachments": {},
   "cell_type": "markdown",
   "metadata": {},
   "source": [
    "## **Exercício 1**\n",
    "\n",
    "Na célula a seguir, escreva um código Python que cria uma imagem de tamanho 64x32 pixels com as seguintes propriedades:\n",
    "\n",
    "- A primeira coluna de pixels da imagem deve ter a cor branca - RGB(255, 255, 255) ou RGB(1.0, 1.0, 1.0).\n",
    "\n",
    "- A última coluna de pixels da imagem deve ter a cor preta - RGB(0, 0, 0) ou RGB(0.0, 0.0, 0.0).\n",
    "\n",
    "- As cores dos pixels das colunas intermediárias devem ser obtidas pela interpolação da primeira e da última coluna, de acordo com a sua posição no espaço.\n",
    "\n",
    "\n",
    "Observações:\n",
    "\n",
    "- Para obter as cores intermediárias, use a equação de interpolação linear que vimos em aula:\n",
    "```python\n",
    "def lerp(v0, v1, alpha):\n",
    "    return (1.0 - alpha) * v0 + alpha * v1\n",
    "```\n",
    "\n",
    "- Para criar a imagem \"do zero\", você pode usar o `NumPy` (vide seção \"Imagens e `NumPy`\" da atividade anterior).\n",
    "\n",
    "O resultado do seu código deve ficar parecido com a imagem abaixo:\n",
    "\n",
    "![Exercício1-Saída.png](Exercício1-Saída.png)\n",
    "\n",
    "\n"
   ]
  },
  {
   "cell_type": "code",
   "execution_count": null,
   "metadata": {},
   "outputs": [
    {
     "ename": "",
     "evalue": "",
     "output_type": "error",
     "traceback": [
      "\u001b[1;31mRunning cells with 'c:\\Users\\hiroshi_gustavo\\AppData\\Local\\Microsoft\\WindowsApps\\python3.10.exe' requires the ipykernel package.\n",
      "\u001b[1;31mRun the following command to install 'ipykernel' into the Python environment. \n",
      "\u001b[1;31mCommand: 'c:/Users/hiroshi_gustavo/AppData/Local/Microsoft/WindowsApps/python3.10.exe -m pip install ipykernel -U --user --force-reinstall'"
     ]
    }
   ],
   "source": [
    "from PIL import Image\n",
    "img = Image.new('RGB', (64, 32), color = (255,255,255))\n",
    "pixels = img.load()\n",
    "height = 32\n",
    "width = 64\n",
    "\n",
    "for i in range(height):\n",
    "    pixels[width-1, i] = (0, 0, 0)\n",
    "\n",
    "for i in range(height):\n",
    "    for j in range(1, width-1):\n",
    "        a = j / (width - 1)\n",
    "        v1 = (255, 255, 255)\n",
    "        v2 = (0, 0, 0)\n",
    "        #𝐶 (𝑉 )= 𝐶( (1 − 𝛼 )𝑉1 + 𝛼𝑉2) = (1 − 𝛼 )𝐶 (𝑉1) + 𝛼𝐶 (𝑉2)\n",
    "        cV = tuple([int((1 - a) * v1[k] + a * v2[k]) for k in range(3)])\n",
    "        pixels[j, i] = cV\n",
    "\n",
    "img.show()"
   ]
  },
  {
   "cell_type": "markdown",
   "metadata": {},
   "source": [
    "## **Exercício 2**\n",
    "\n",
    "Na célula a seguir, escreva um código Python que cria uma imagem de tamanho 64x32 pixels com as seguintes propriedades:\n",
    "\n",
    "- A primeira coluna de pixels da imagem deve ter a cor azul - RGB(0, 0, 255) ou RGB(0.0, 0.0, 1.0).\n",
    "\n",
    "- A última coluna de pixels da imagem deve ter a cor amarela - RGB(255, 255, 0) ou RGB(1.0, 1.0, 0.0).\n",
    "\n",
    "- As cores dos pixels das colunas intermediárias devem ser obtidas pela interpolação da primeira e da última coluna, de acordo com a sua posição no espaço.\n",
    "\n",
    "- Para obter as cores intermediárias, use a equação de interpolação linear que vimos em aula.\n",
    "\n",
    "\n",
    "O resultado do seu código deve ficar parecido com a imagem abaixo:\n",
    "\n",
    "![Exercício2-Saída.png](Exercício2-Saída.png)"
   ]
  },
  {
   "cell_type": "code",
   "execution_count": null,
   "metadata": {},
   "outputs": [
    {
     "ename": "",
     "evalue": "",
     "output_type": "error",
     "traceback": [
      "\u001b[1;31mRunning cells with 'c:\\Users\\hiroshi_gustavo\\AppData\\Local\\Microsoft\\WindowsApps\\python3.10.exe' requires the ipykernel package.\n",
      "\u001b[1;31mRun the following command to install 'ipykernel' into the Python environment. \n",
      "\u001b[1;31mCommand: 'c:/Users/hiroshi_gustavo/AppData/Local/Microsoft/WindowsApps/python3.10.exe -m pip install ipykernel -U --user --force-reinstall'"
     ]
    }
   ],
   "source": [
    "# TODO: *** Exercício 2 - Implementar e remover esse comentário. ***\n",
    "\n",
    "from PIL import Image\n",
    "img = Image.new('RGB', (64, 32), color = (0,0,255))\n",
    "pixels = img.load()\n",
    "height = 32\n",
    "width = 64\n",
    "\n",
    "for i in range(height):\n",
    "    pixels[width-1, i] = (255, 255, 0)\n",
    "\n",
    "for i in range(height):\n",
    "    for j in range(1, width-1):\n",
    "        a = j / (width - 1)\n",
    "        v1 = (0, 0, 255)\n",
    "        v2 = (255, 255, 0)\n",
    "        #𝐶 (𝑉 )= 𝐶( (1 − 𝛼 )𝑉1 + 𝛼𝑉2) = (1 − 𝛼 )𝐶 (𝑉1) + 𝛼𝐶 (𝑉2)\n",
    "        cV = tuple([int((1 - a) * v1[k] + a * v2[k]) for k in range(3)])\n",
    "        pixels[j, i] = cV\n",
    "\n",
    "img.show()"
   ]
  },
  {
   "cell_type": "markdown",
   "metadata": {},
   "source": [
    "## **Exercício 3**\n",
    "\n",
    "Na célula a seguir, implemente a função `blur3x3(img_color)` em Python que:\n",
    "\n",
    "- Recebe como parâmetro `img_color` um array `NumPy` contendo os dados de uma imagem colorida.\n",
    "\n",
    "- Faz a convolução do filtro (kernel) de desfoque/suavização (blur) de tamanho 3x3 com a imagem `img_color`, isto é, aplica o filtro na imagem.\n",
    "\n",
    "- Quando o filtro está passando nas bordas da imagem, considere que as partes do filtro que ficam fora da imagem possuem o valor zero.\n",
    "\n",
    "- Retorna um array `NumPy` com o resultado da convolução.\n",
    "\n",
    "\n",
    "Observações:\n",
    "\n",
    "- Neste exercício, você não deve usar bibliotecas/pacotes adicionais, a não ser o `NumPy`.\n",
    "\n",
    "- Para a aplicação do filtro, fica a seu critério criar uma matriz de convolução ou operar diretamente nos pixels da imagem."
   ]
  },
  {
   "cell_type": "code",
   "execution_count": null,
   "metadata": {},
   "outputs": [
    {
     "ename": "",
     "evalue": "",
     "output_type": "error",
     "traceback": [
      "\u001b[1;31mRunning cells with 'c:\\Users\\hiroshi_gustavo\\AppData\\Local\\Microsoft\\WindowsApps\\python3.10.exe' requires the ipykernel package.\n",
      "\u001b[1;31mRun the following command to install 'ipykernel' into the Python environment. \n",
      "\u001b[1;31mCommand: 'c:/Users/hiroshi_gustavo/AppData/Local/Microsoft/WindowsApps/python3.10.exe -m pip install ipykernel -U --user --force-reinstall'"
     ]
    }
   ],
   "source": [
    "# TODO: *** Exercício 3 - Implementar e remover esse comentário. ***\n",
    "import numpy as np\n",
    "import matplotlib.pyplot as plt\n",
    "import matplotlib.image as img\n",
    "\n",
    "def blur3x3(img_color):\n",
    "  convolucao = (np.ones((3,3)))/9\n",
    "  teste = np.pad(img_color, ((1, 1), (1, 1), (0, 0)), mode='constant')\n",
    "  result = np.zeros_like(img_color)\n",
    "  for i in range(img_color.shape[2]):\n",
    "    for j in range(img_color.shape[0]):\n",
    "      for k in range(img_color.shape[1]):\n",
    "        result[j,k,i] = np.sum(convolucao*teste[j:j+3, k:k+3, i])\n",
    "  return result\n",
    "\n",
    "img_color = np.random.randint(0, 256, (200, 200, 3))\n",
    "plt.subplot(1,2,1)\n",
    "plt.imshow(img_color)\n",
    "plt.subplot(1,2,2)\n",
    "plt.imshow(blur3x3(img_color))\n"
   ]
  },
  {
   "cell_type": "markdown",
   "metadata": {},
   "source": [
    "## **Exercício 4**\n",
    "\n",
    "Na célula a seguir, escreva um código Python que aplica o filtro do exercício 3 na imagem gerada no exercício 2.\n",
    "\n",
    "O resultado do seu código deve ficar parecido com a imagem abaixo:\n",
    "\n",
    "![Exercício4-Saída.png](Exercício4-Saída.png)"
   ]
  },
  {
   "cell_type": "code",
   "execution_count": null,
   "metadata": {},
   "outputs": [
    {
     "ename": "",
     "evalue": "",
     "output_type": "error",
     "traceback": [
      "\u001b[1;31mRunning cells with 'c:\\Users\\hiroshi_gustavo\\AppData\\Local\\Microsoft\\WindowsApps\\python3.10.exe' requires the ipykernel package.\n",
      "\u001b[1;31mRun the following command to install 'ipykernel' into the Python environment. \n",
      "\u001b[1;31mCommand: 'c:/Users/hiroshi_gustavo/AppData/Local/Microsoft/WindowsApps/python3.10.exe -m pip install ipykernel -U --user --force-reinstall'"
     ]
    }
   ],
   "source": [
    "from PIL import Image\n",
    "img = Image.new('RGB', (64, 32), color = (0,0,255))\n",
    "pixels = img.load()\n",
    "height = 32\n",
    "width = 64\n",
    "\n",
    "for i in range(height):\n",
    "    pixels[width-1, i] = (255, 255, 0)\n",
    "\n",
    "for i in range(height):\n",
    "    for j in range(1, width-1):\n",
    "        a = j / (width - 1)\n",
    "        v1 = (0, 0, 255)\n",
    "        v2 = (255, 255, 0)\n",
    "        #𝐶 (𝑉 )= 𝐶( (1 − 𝛼 )𝑉1 + 𝛼𝑉2) = (1 − 𝛼 )𝐶 (𝑉1) + 𝛼𝐶 (𝑉2)\n",
    "        cV = tuple([int((1 - a) * v1[k] + a * v2[k]) for k in range(3)])\n",
    "        pixels[j, i] = cV\n",
    "\n",
    "img.save(\"TESTE.png\")\n",
    "\n",
    "\n",
    "import numpy as np\n",
    "\n",
    "def blur3x3(img_color):\n",
    "     import numpy as np\n",
    "\n",
    "def blur3x3(img_color):\n",
    "      # Matriz de convolução\n",
    "    conv_mat = np.ones((3, 3)) / 9.0\n",
    "    \n",
    "    # Adicionar bordas com valor zero à imagem\n",
    "    height, width, channels = img_color.shape\n",
    "    padded_img = np.pad(img_color, ((1, 1), (1, 1), (0, 0)), mode='constant')\n",
    "\n",
    "    # Aplicar a convolução em cada canal de cor\n",
    "    result = np.zeros_like(img_color)\n",
    "    for c in range(channels):\n",
    "        for i in range(height):\n",
    "            for j in range(width):\n",
    "                result[i, j, c] = np.sum(conv_mat * padded_img[i:i+3, j:j+3, c])\n",
    "\n",
    "    return result\n",
    "\n",
    "from PIL import Image\n",
    "from numpy import asarray\n",
    "img = Image.open('TESTE.png')\n",
    "numpydata = blur3x3(asarray(img))\n",
    "img.show()\n",
    "pilImage = Image.fromarray(numpydata)\n",
    "pilImage.show()"
   ]
  },
  {
   "cell_type": "markdown",
   "metadata": {},
   "source": [
    "## **Exercício 5**\n",
    "\n",
    "Na célula a seguir, escreva um código Python que aplica o filtro do exercício 3 em cima da imagem obtida no exercício 4, 10 vezes. Ou seja, o filtro sempre é aplicado no resultado da imagem filtrada.\n",
    "\n",
    "O resultado do seu código deve ficar parecido com a imagem abaixo:\n",
    "\n",
    "![Exercício5-Saída.png](Exercício5-Saída.png)"
   ]
  },
  {
   "cell_type": "code",
   "execution_count": null,
   "metadata": {},
   "outputs": [
    {
     "ename": "",
     "evalue": "",
     "output_type": "error",
     "traceback": [
      "\u001b[1;31mRunning cells with 'c:\\Users\\hiroshi_gustavo\\AppData\\Local\\Microsoft\\WindowsApps\\python3.10.exe' requires the ipykernel package.\n",
      "\u001b[1;31mRun the following command to install 'ipykernel' into the Python environment. \n",
      "\u001b[1;31mCommand: 'c:/Users/hiroshi_gustavo/AppData/Local/Microsoft/WindowsApps/python3.10.exe -m pip install ipykernel -U --user --force-reinstall'"
     ]
    }
   ],
   "source": [
    "# TODO: *** Exercício 5 - Implementar e remover esse comentário. ***\n",
    "from PIL import Image\n",
    "img = Image.new('RGB', (64, 32), color = (0,0,255))\n",
    "pixels = img.load()\n",
    "height = 32\n",
    "width = 64\n",
    "\n",
    "for i in range(height):\n",
    "    pixels[width-1, i] = (255, 255, 0)\n",
    "\n",
    "for i in range(height):\n",
    "    for j in range(1, width-1):\n",
    "        a = j / (width - 1)\n",
    "        v1 = (0, 0, 255)\n",
    "        v2 = (255, 255, 0)\n",
    "        #𝐶 (𝑉 )= 𝐶( (1 − 𝛼 )𝑉1 + 𝛼𝑉2) = (1 − 𝛼 )𝐶 (𝑉1) + 𝛼𝐶 (𝑉2)\n",
    "        cV = tuple([int((1 - a) * v1[k] + a * v2[k]) for k in range(3)])\n",
    "        pixels[j, i] = cV\n",
    "\n",
    "img.save(\"TESTE.png\")\n",
    "\n",
    "\n",
    "import numpy as np\n",
    "\n",
    "def blur3x3(img_color):\n",
    "     import numpy as np\n",
    "\n",
    "def blur3x3(img_color):\n",
    "      # Matriz de convolução\n",
    "    conv_mat = np.ones((3, 3)) / 9.0\n",
    "    \n",
    "    # Adicionar bordas com valor zero à imagem\n",
    "    height, width, channels = img_color.shape\n",
    "    padded_img = np.pad(img_color, ((1, 1), (1, 1), (0, 0)), mode='constant')\n",
    "\n",
    "    # Aplicar a convolução em cada canal de cor\n",
    "    result = np.zeros_like(img_color)\n",
    "    for c in range(channels):\n",
    "        for i in range(height):\n",
    "            for j in range(width):\n",
    "                result[i, j, c] = np.sum(conv_mat * padded_img[i:i+3, j:j+3, c])\n",
    "\n",
    "    return result\n",
    "\n",
    "from PIL import Image\n",
    "from numpy import asarray\n",
    "img = Image.open('TESTE.png')\n",
    "img.show()\n",
    "for i in range(10):\n",
    "     img = blur3x3(asarray(img))\n",
    "pilImage = Image.fromarray(img)\n",
    "pilImage.show()"
   ]
  }
 ],
 "metadata": {
  "interpreter": {
   "hash": "63fd5069d213b44bf678585dea6b12cceca9941eaf7f819626cde1f2670de90d"
  },
  "kernelspec": {
   "display_name": "Python 3 (ipykernel)",
   "language": "python",
   "name": "python3"
  },
  "language_info": {
   "codemirror_mode": {
    "name": "ipython",
    "version": 3
   },
   "file_extension": ".py",
   "mimetype": "text/x-python",
   "name": "python",
   "nbconvert_exporter": "python",
   "pygments_lexer": "ipython3",
   "version": "3.10.10"
  }
 },
 "nbformat": 4,
 "nbformat_minor": 2
}
